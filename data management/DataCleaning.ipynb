{
  "nbformat": 4,
  "nbformat_minor": 0,
  "metadata": {
    "colab": {
      "name": "DataCleaning.ipynb",
      "provenance": [],
      "collapsed_sections": []
    },
    "kernelspec": {
      "name": "python3",
      "display_name": "Python 3"
    }
  },
  "cells": [
    {
      "cell_type": "code",
      "metadata": {
        "id": "6VVAwxfEIKtc",
        "colab": {
          "base_uri": "https://localhost:8080/"
        },
        "outputId": "df696813-c898-4a81-f927-34942579073d"
      },
      "source": [
        "# Install necessary packages\n",
        "!pip install geopy"
      ],
      "execution_count": 35,
      "outputs": [
        {
          "output_type": "stream",
          "text": [
            "Requirement already satisfied: geopy in /usr/local/lib/python3.6/dist-packages (1.17.0)\n",
            "Requirement already satisfied: geographiclib<2,>=1.49 in /usr/local/lib/python3.6/dist-packages (from geopy) (1.50)\n"
          ],
          "name": "stdout"
        }
      ]
    },
    {
      "cell_type": "code",
      "metadata": {
        "id": "TFPJ7F3VftDT",
        "colab": {
          "base_uri": "https://localhost:8080/"
        },
        "outputId": "2c3d542e-a06e-4aed-8e98-b6e9465ab219"
      },
      "source": [
        "# Import packages\n",
        "from geopy import Nominatim\n",
        "import pandas as pd\n",
        "import glob\n",
        "from datetime import datetime\n",
        "\n",
        "# Mount Google Drive\n",
        "from google.colab import drive\n",
        "drive.mount('/content/drive/')"
      ],
      "execution_count": 36,
      "outputs": [
        {
          "output_type": "stream",
          "text": [
            "Drive already mounted at /content/drive/; to attempt to forcibly remount, call drive.mount(\"/content/drive/\", force_remount=True).\n"
          ],
          "name": "stdout"
        }
      ]
    },
    {
      "cell_type": "code",
      "metadata": {
        "id": "l4bXrJ6uk7fq"
      },
      "source": [
        "# Read taxi-zone-lookup.csv into a dataframe\n",
        "url = 'https://raw.githubusercontent.com/fivethirtyeight/uber-tlc-foil-response/master/uber-trip-data/taxi-zone-lookup.csv'\n",
        "location_codes = pd.read_csv(url)"
      ],
      "execution_count": 37,
      "outputs": []
    },
    {
      "cell_type": "code",
      "metadata": {
        "id": "eoSx8VUns3ph"
      },
      "source": [
        "# Get location objects from borough and zone\n",
        "locator = Nominatim(user_agent='uber')\n",
        "location_codes['query'] = location_codes['Borough'] + \", \" + location_codes['Zone'].apply(lambda z: z.split('/')[0])\n",
        "location_codes['location'] = location_codes['query'].apply(lambda q: locator.geocode(query = q))"
      ],
      "execution_count": 38,
      "outputs": []
    },
    {
      "cell_type": "code",
      "metadata": {
        "id": "6QPo81wYxSj-"
      },
      "source": [
        "# Extract latitude and longitude into new columns\n",
        "location_codes['Lat'] = location_codes['location'].apply(lambda l: l.latitude if l is not None else None)\n",
        "location_codes['Lon'] = location_codes['location'].apply(lambda l: l.longitude if l is not None else None)\n",
        "\n",
        "memoize_borough = {}\n",
        "memoize_neighborhood = {}\n",
        "def memoize(row):\n",
        "  coords = '{}, {}'.format(row['Lat'], row['Lon'])\n",
        "  memoize_borough[coords] = row['Borough']\n",
        "  memoize_neighborhood[coords] = row['Zone']\n",
        "\n",
        "location_codes.apply(memoize, axis=1)\n",
        "\n",
        "# Fill in missing values\n",
        "location_codes.loc[location_codes['location'].isna(),'Lat'] = [40.5564,40.7932,40.7931,40.8837,40.7082,40.8972,40.8837,40.7082]\n",
        "location_codes.loc[location_codes['location'].isna(),'Lon'] = [74.1735,73.9213,73.8860,73.8931,73.9567,73.8861,73.8931,73.9571]\n",
        "\n",
        "# Drop unneccesary features\n",
        "location_codes.drop(['Borough', 'Zone', 'query', 'location'], axis=1, inplace=True)\n",
        "\n",
        "# Rename feature\n",
        "location_codes.rename(columns={'LocationID':'locationID'},inplace=True)\n",
        "\n"
      ],
      "execution_count": 39,
      "outputs": []
    },
    {
      "cell_type": "code",
      "metadata": {
        "id": "VhPPmsErRKfa"
      },
      "source": [
        "# Read uber-raw-data-janjun-15.csv into a dataframe\n",
        "data = pd.read_csv('/content/drive/Shared drives/Team Mean Green Learning Machine/raw datasets/uber-raw-data-janjune-15.csv')\n",
        "\n",
        "# Add latitude and longitude\n",
        "data = pd.merge(data, location_codes, on='locationID')\n",
        "\n",
        "# Drop unneccesary features\n",
        "data.drop(['locationID','Dispatching_base_num','Affiliated_base_num'],axis=1, inplace=True)\n",
        "\n",
        "# Rename feature\n",
        "data.rename(columns={'Pickup_date':'Date'},inplace=True)"
      ],
      "execution_count": 40,
      "outputs": []
    },
    {
      "cell_type": "code",
      "metadata": {
        "id": "3gu5Cg8mVtFq"
      },
      "source": [
        "# Drop rows with unknown pickup location\n",
        "# data = data[data['Borough'] != 'Unknown']\n",
        "# data = data[data['Neighborhood'] != 'Unknown']"
      ],
      "execution_count": 41,
      "outputs": []
    },
    {
      "cell_type": "code",
      "metadata": {
        "id": "X55mNI_jiHAA"
      },
      "source": [
        "files = glob.glob(\"/content/drive/Shared drives/Team Mean Green Learning Machine/raw datasets/uber-raw-data-*14.csv\")\n",
        "for file in files:\n",
        "  add = pd.read_csv(file)\n",
        "  add.drop('Base',axis=1,inplace=True)\n",
        "  add.rename(columns={'Date/Time':'Date'},inplace=True)\n",
        "  add['Date'] = add['Date'].apply(lambda d: datetime.strptime(d,\"%m/%d/%Y %H:%M:%S\"))\n",
        "  \n",
        "  # Add data to final dataframe\n",
        "  data = data.append(add, ignore_index=True)"
      ],
      "execution_count": 42,
      "outputs": []
    },
    {
      "cell_type": "code",
      "metadata": {
        "id": "jySxJpxpfhKO"
      },
      "source": [
        "# Break up Date column\n",
        "data['Date'] = pd.to_datetime(data['Date'])\n",
        "data['Day'] = data['Date'].dt.day\n",
        "data['Month'] = data['Date'].dt.month\n",
        "data['Year'] = data['Date'].dt.year"
      ],
      "execution_count": 43,
      "outputs": []
    },
    {
      "cell_type": "code",
      "metadata": {
        "id": "_PQKEhGCcJvV"
      },
      "source": [
        "# Save as CSV\n",
        "data.to_csv('/content/drive/Shared drives/Team Mean Green Learning Machine/processed data/data.csv')"
      ],
      "execution_count": 44,
      "outputs": []
    }
  ]
}