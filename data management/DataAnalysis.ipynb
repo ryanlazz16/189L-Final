{
  "nbformat": 4,
  "nbformat_minor": 0,
  "metadata": {
    "colab": {
      "name": "DataAnalysis.ipynb",
      "provenance": [],
      "collapsed_sections": []
    },
    "kernelspec": {
      "name": "python3",
      "display_name": "Python 3"
    }
  },
  "cells": [
    {
      "cell_type": "code",
      "metadata": {
        "id": "eJRJCDUlFEz1",
        "colab": {
          "base_uri": "https://localhost:8080/"
        },
        "outputId": "3743b24e-a7e2-4ffe-8341-cb87b9d1a4be"
      },
      "source": [
        "import pandas as pd\n",
        "import matplotlib.pyplot as plt\n",
        "from google.colab import drive\n",
        "drive.mount('/content/drive/')\n",
        "data = pd.read_csv('/content/drive/Shared drives/Team Mean Green Learning Machine/processed data/data.csv',usecols=['Date','Lat','Lon'])"
      ],
      "execution_count": 41,
      "outputs": [
        {
          "output_type": "stream",
          "text": [
            "Drive already mounted at /content/drive/; to attempt to forcibly remount, call drive.mount(\"/content/drive/\", force_remount=True).\n"
          ],
          "name": "stdout"
        }
      ]
    },
    {
      "cell_type": "markdown",
      "metadata": {
        "id": "O6qV1AtGKbmC"
      },
      "source": [
        "# ***Data by the Seasons***"
      ]
    },
    {
      "cell_type": "code",
      "metadata": {
        "id": "VBPRDwaX2rw-"
      },
      "source": [
        "data['Date'] = pd.to_datetime(data['Date'])\n",
        "data['Day'] = data['Date'].dt.day\n",
        "data['Month'] = data['Date'].dt.month\n",
        "data['Year'] = data['Date'].dt.year"
      ],
      "execution_count": 42,
      "outputs": []
    },
    {
      "cell_type": "code",
      "metadata": {
        "id": "Gkgs7sDOFIVa",
        "colab": {
          "base_uri": "https://localhost:8080/"
        },
        "outputId": "fc578ab0-682a-4f9b-9ef0-0bb2cfbf4b17"
      },
      "source": [
        "data_winter = data[(data['Month'] == 12) | (data['Month'] == 1) | (data['Month'] == 2)]\n",
        "len(data_winter)"
      ],
      "execution_count": 43,
      "outputs": [
        {
          "output_type": "execute_result",
          "data": {
            "text/plain": [
              "4217421"
            ]
          },
          "metadata": {
            "tags": []
          },
          "execution_count": 43
        }
      ]
    },
    {
      "cell_type": "code",
      "metadata": {
        "id": "k06aj0auKDoV",
        "colab": {
          "base_uri": "https://localhost:8080/"
        },
        "outputId": "bacb63a4-a418-45ec-9430-8c4c05a68aa6"
      },
      "source": [
        "data_spring = data[(data['Month'] == 3) | (data['Month'] == 4) | (data['Month'] == 5)]\n",
        "len(data_spring)"
      ],
      "execution_count": 44,
      "outputs": [
        {
          "output_type": "execute_result",
          "data": {
            "text/plain": [
              "8453114"
            ]
          },
          "metadata": {
            "tags": []
          },
          "execution_count": 44
        }
      ]
    },
    {
      "cell_type": "code",
      "metadata": {
        "id": "4LWIRrajKE3r",
        "colab": {
          "base_uri": "https://localhost:8080/"
        },
        "outputId": "1bee34df-ca4d-4720-acee-ef6fcd6def42"
      },
      "source": [
        "data_summer = data[(data['Month'] == 6) | (data['Month'] == 7) | (data['Month'] == 8)]\n",
        "len(data_summer)"
      ],
      "execution_count": 45,
      "outputs": [
        {
          "output_type": "execute_result",
          "data": {
            "text/plain": [
              "5106135"
            ]
          },
          "metadata": {
            "tags": []
          },
          "execution_count": 45
        }
      ]
    },
    {
      "cell_type": "code",
      "metadata": {
        "id": "hXEeAdB33mCd",
        "colab": {
          "base_uri": "https://localhost:8080/"
        },
        "outputId": "989053c6-4ef7-4be6-871b-80df1089c6a7"
      },
      "source": [
        "data_fall = data[(data['Month'] == 9) | (data['Month'] == 10) | (data['Month'] == 11)]\n",
        "len(data_fall)"
      ],
      "execution_count": 46,
      "outputs": [
        {
          "output_type": "execute_result",
          "data": {
            "text/plain": [
              "1028136"
            ]
          },
          "metadata": {
            "tags": []
          },
          "execution_count": 46
        }
      ]
    },
    {
      "cell_type": "markdown",
      "metadata": {
        "id": "oKKwopqUKjLG"
      },
      "source": [
        "\n",
        "#***Data by Times of the Day***"
      ]
    },
    {
      "cell_type": "code",
      "metadata": {
        "id": "yNoZ4ZIzMOTm"
      },
      "source": [
        "afterDarkHours = ['00','01', '02','03','04', '05', '06']\n",
        "night = data[data['Day'].isin(afterDarkHours)]\n",
        "day = data[~data['Day'].isin(afterDarkHours)]"
      ],
      "execution_count": 47,
      "outputs": []
    },
    {
      "cell_type": "code",
      "metadata": {
        "id": "EGJNX3L_dOdh",
        "colab": {
          "base_uri": "https://localhost:8080/"
        },
        "outputId": "38e93980-d3cc-46e9-f6e0-3090720e9bc7"
      },
      "source": [
        "hours = data['Date'].dt.hour\n",
        "hours"
      ],
      "execution_count": 48,
      "outputs": [
        {
          "output_type": "execute_result",
          "data": {
            "text/plain": [
              "0            9\n",
              "1            9\n",
              "2            9\n",
              "3           10\n",
              "4           10\n",
              "            ..\n",
              "18804801    22\n",
              "18804802    22\n",
              "18804803    22\n",
              "18804804    22\n",
              "18804805    22\n",
              "Name: Date, Length: 18804806, dtype: int64"
            ]
          },
          "metadata": {
            "tags": []
          },
          "execution_count": 48
        }
      ]
    },
    {
      "cell_type": "code",
      "metadata": {
        "id": "rJzJwowcdaX4",
        "colab": {
          "base_uri": "https://localhost:8080/",
          "height": 315
        },
        "outputId": "3ccbf1b8-feff-4bf4-c9d6-059118d9d190"
      },
      "source": [
        "hours.value_counts(sort=False).plot.bar(x='Hour', y='# of Rides', title=\"Number of Rides by Hour\", xlabel='Hour(in military time)', ylabel='Number of Rides (in millions)')"
      ],
      "execution_count": 49,
      "outputs": [
        {
          "output_type": "execute_result",
          "data": {
            "text/plain": [
              "<matplotlib.axes._subplots.AxesSubplot at 0x7f3b7e7a7e48>"
            ]
          },
          "metadata": {
            "tags": []
          },
          "execution_count": 49
        },
        {
          "output_type": "display_data",
          "data": {
            "image/png": "[encoded data removed]",
            "text/plain": [
              "<Figure size 432x288 with 1 Axes>"
            ]
          },
          "metadata": {
            "tags": [],
            "needs_background": "light"
          }
        }
      ]
    },
    {
      "cell_type": "markdown",
      "metadata": {
        "id": "lep6yWDzgHXC"
      },
      "source": [
        "#***Data by Month***"
      ]
    },
    {
      "cell_type": "code",
      "metadata": {
        "id": "xn1amW-he7fz",
        "colab": {
          "base_uri": "https://localhost:8080/",
          "height": 348
        },
        "outputId": "80fd7d28-fa77-49ef-dcae-265040f9ad59"
      },
      "source": [
        "data_2014 = data[data['Year'] == 2014]\n",
        "data.groupby(by=['Year','Month']).count()['Lat'].plot.bar()\n",
        "plt.ylabel('Count (in millions)')\n",
        "plt.title('Number of Rides By Month and Year')"
      ],
      "execution_count": 50,
      "outputs": [
        {
          "output_type": "execute_result",
          "data": {
            "text/plain": [
              "Text(0.5, 1.0, 'Number of Rides By Month and Year')"
            ]
          },
          "metadata": {
            "tags": []
          },
          "execution_count": 50
        },
        {
          "output_type": "display_data",
          "data": {
            "image/png": "[encoded data removed]",
            "text/plain": [
              "<Figure size 432x288 with 1 Axes>"
            ]
          },
          "metadata": {
            "tags": [],
            "needs_background": "light"
          }
        }
      ]
    },
    {
      "cell_type": "markdown",
      "metadata": {
        "id": "VdibZzVTPLV0"
      },
      "source": [
        "# ***Data by Days of the Week***\n",
        "\n"
      ]
    },
    {
      "cell_type": "code",
      "metadata": {
        "id": "aEzbG8h4PRj3"
      },
      "source": [
        "days = data['Date'].dt.dayofweek\n",
        "data_with_days = data.assign(Day = days) "
      ],
      "execution_count": 51,
      "outputs": []
    },
    {
      "cell_type": "code",
      "metadata": {
        "id": "YZIiBz0cTCgX",
        "colab": {
          "base_uri": "https://localhost:8080/",
          "height": 313
        },
        "outputId": "5d806e02-f206-459c-edd2-4445a301564d"
      },
      "source": [
        "days.value_counts(sort=False).plot.bar(xlabel='Day of the Week', ylabel=\"Number of Rides\", title=\"Number of Rides by Day\")\n",
        "plt.xticks(range(7), ('Mon', 'Tues', 'Wed', 'Thurs', 'Fri', 'Sat', 'Sun'))\n",
        "plt.show()"
      ],
      "execution_count": 52,
      "outputs": [
        {
          "output_type": "display_data",
          "data": {
            "image/png": "[encoded data removed]",
            "text/plain": [
              "<Figure size 432x288 with 1 Axes>"
            ]
          },
          "metadata": {
            "tags": [],
            "needs_background": "light"
          }
        }
      ]
    },
    {
      "cell_type": "code",
      "metadata": {
        "id": "j7RoR-EYNZGK",
        "colab": {
          "base_uri": "https://localhost:8080/",
          "height": 315
        },
        "outputId": "8418a3e0-e771-4ad5-cb52-21e67ae1bd53"
      },
      "source": [
        "data['Day'].value_counts(sort=False).plot.bar(xlabel='Date of the Month', ylabel=\"Number of Rides\", title=\"Number of Rides by Date\")"
      ],
      "execution_count": 53,
      "outputs": [
        {
          "output_type": "execute_result",
          "data": {
            "text/plain": [
              "<matplotlib.axes._subplots.AxesSubplot at 0x7f3b7e37fe48>"
            ]
          },
          "metadata": {
            "tags": []
          },
          "execution_count": 53
        },
        {
          "output_type": "display_data",
          "data": {
            "image/png": "[encoded data removed]",
            "text/plain": [
              "<Figure size 432x288 with 1 Axes>"
            ]
          },
          "metadata": {
            "tags": [],
            "needs_background": "light"
          }
        }
      ]
    },
    {
      "cell_type": "markdown",
      "metadata": {
        "id": "GDTrj3MBKyqn"
      },
      "source": [
        "# **Major Trends**\n",
        "\n",
        "\n",
        "*   Saturday and Friday are the busiest days\n",
        "*   Busiest hours start from 3pm to 11pm with the peak at 6pm\n",
        "\n"
      ]
    }
  ]
}